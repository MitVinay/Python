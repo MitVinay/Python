{
 "cells": [
  {
   "cell_type": "code",
   "execution_count": 1,
   "id": "c914d66b",
   "metadata": {},
   "outputs": [],
   "source": [
    "import pandas as pd\n",
    "import numpy as np"
   ]
  },
  {
   "cell_type": "code",
   "execution_count": 3,
   "id": "311e6809",
   "metadata": {},
   "outputs": [],
   "source": [
    "courses = pd.read_csv(\"courses.csv\")\n",
    "students = pd.read_csv(\"students.csv\")\n",
    "nov = pd.read_csv(\"reg-month1.csv\")\n",
    "dec = pd.read_csv(\"reg-month2.csv\")\n",
    "matches = pd.read_csv(\"matches.csv\")\n",
    "deliveries = pd.read_csv(\"deliveries.csv\")"
   ]
  },
  {
   "cell_type": "code",
   "execution_count": null,
   "id": "d2377abe",
   "metadata": {},
   "outputs": [],
   "source": []
  }
 ],
 "metadata": {
  "kernelspec": {
   "display_name": "Python 3 (ipykernel)",
   "language": "python",
   "name": "python3"
  },
  "language_info": {
   "codemirror_mode": {
    "name": "ipython",
    "version": 3
   },
   "file_extension": ".py",
   "mimetype": "text/x-python",
   "name": "python",
   "nbconvert_exporter": "python",
   "pygments_lexer": "ipython3",
   "version": "3.11.5"
  }
 },
 "nbformat": 4,
 "nbformat_minor": 5
}
