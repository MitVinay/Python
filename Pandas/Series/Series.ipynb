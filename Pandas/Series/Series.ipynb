{
 "cells": [
  {
   "cell_type": "markdown",
   "id": "7b77a7c1",
   "metadata": {},
   "source": [
    "## Pandas Series \n",
    "\n",
    "A pandas series is like a column in a table, It is a 1-D array holding data of any type.\n"
   ]
  },
  {
   "cell_type": "code",
   "execution_count": 3,
   "id": "c370132f",
   "metadata": {},
   "outputs": [],
   "source": [
    "import pandas as pd\n",
    "import numpy as np\n",
    "\n",
    "# Pandas is made on top of numpy, So its a good practice to import numpy as well."
   ]
  },
  {
   "cell_type": "markdown",
   "id": "81970605",
   "metadata": {},
   "source": [
    "## Series from lists"
   ]
  },
  {
   "cell_type": "code",
   "execution_count": 4,
   "id": "ea4972c0",
   "metadata": {},
   "outputs": [
    {
     "data": {
      "text/plain": [
       "0       India\n",
       "1    Pakistan\n",
       "2         USA\n",
       "3    Srilanka\n",
       "dtype: object"
      ]
     },
     "execution_count": 4,
     "metadata": {},
     "output_type": "execute_result"
    }
   ],
   "source": [
    "# String\n",
    "country = ['India', 'Pakistan', 'USA', 'Srilanka']\n",
    "\n",
    "pd.Series(country)\n",
    "# Series consist of two things, first index and second its value. Pandas in general calls string as an object."
   ]
  },
  {
   "cell_type": "code",
   "execution_count": null,
   "id": "28578624",
   "metadata": {},
   "outputs": [],
   "source": []
  }
 ],
 "metadata": {
  "kernelspec": {
   "display_name": "Python 3 (ipykernel)",
   "language": "python",
   "name": "python3"
  },
  "language_info": {
   "codemirror_mode": {
    "name": "ipython",
    "version": 3
   },
   "file_extension": ".py",
   "mimetype": "text/x-python",
   "name": "python",
   "nbconvert_exporter": "python",
   "pygments_lexer": "ipython3",
   "version": "3.11.5"
  }
 },
 "nbformat": 4,
 "nbformat_minor": 5
}
